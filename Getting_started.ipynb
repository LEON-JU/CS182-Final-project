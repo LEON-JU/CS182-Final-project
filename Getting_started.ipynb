{
 "cells": [
  {
   "cell_type": "markdown",
   "metadata": {},
   "source": [
    "# Loading Dataset And Dependencies"
   ]
  },
  {
   "cell_type": "code",
   "execution_count": null,
   "metadata": {},
   "outputs": [],
   "source": [
    "import numpy as np\n",
    "import pandas as pd\n",
    "import os"
   ]
  },
  {
   "cell_type": "code",
   "execution_count": null,
   "metadata": {},
   "outputs": [],
   "source": [
    "train_data = pd.read_csv(\"data/train.csv\")\n",
    "test_data = pd.read_csv(\"data/test.csv\")"
   ]
  },
  {
   "cell_type": "markdown",
   "metadata": {},
   "source": [
    "# Train Data pre-processing"
   ]
  },
  {
   "cell_type": "markdown",
   "metadata": {},
   "source": [
    "## 1. Imputation of Missing Values in the Age Column"
   ]
  },
  {
   "cell_type": "markdown",
   "metadata": {},
   "source": [
    "tips: uncomment the method you want to use before running the code"
   ]
  },
  {
   "cell_type": "code",
   "execution_count": null,
   "metadata": {},
   "outputs": [],
   "source": [
    "\"\"\"\n",
    "Method 1: Linear Regression Imputation\n",
    "\"\"\"\n",
    "from sklearn.linear_model import LinearRegression\n",
    "\n",
    "def linear_regression_impute(df):\n",
    "    known_age = df[df['Age'].notnull()]\n",
    "    unknown_age = df[df['Age'].isnull()]\n",
    "    \n",
    "    X_train = known_age[['Pclass', 'SibSp', 'Parch', 'Fare']]\n",
    "    y_train = known_age['Age']\n",
    "    X_test = unknown_age[['Pclass', 'SibSp', 'Parch', 'Fare']]\n",
    "    \n",
    "    lr = LinearRegression()\n",
    "    lr.fit(X_train, y_train)\n",
    "    \n",
    "    predicted_ages = lr.predict(X_test)\n",
    "    df.loc[df['Age'].isnull(), 'Age'] = predicted_ages\n",
    "    \n",
    "    return df\n",
    "\n",
    "\"\"\"\n",
    "Method 2: Random Forest Imputation\n",
    "\"\"\"\n",
    "from sklearn.ensemble import RandomForestRegressor\n",
    "\n",
    "def random_forest_impute(df):\n",
    "    known_age = df[df['Age'].notnull()]\n",
    "    unknown_age = df[df['Age'].isnull()]\n",
    "    \n",
    "    X_train = known_age[['Pclass', 'SibSp', 'Parch', 'Fare']]\n",
    "    y_train = known_age['Age']\n",
    "    X_test = unknown_age[['Pclass', 'SibSp', 'Parch', 'Fare']]\n",
    "    \n",
    "    rfr = RandomForestRegressor(random_state=0, n_estimators=100)\n",
    "    rfr.fit(X_train, y_train)\n",
    "    \n",
    "    predicted_ages = rfr.predict(X_test)\n",
    "    df.loc[df['Age'].isnull(), 'Age'] = predicted_ages\n",
    "    \n",
    "    return df\n",
    "\n",
    "\"\"\"\n",
    "Method 3: K-Nearest Neighbors (KNN) Imputation\n",
    "\"\"\"\n",
    "from sklearn.impute import KNNImputer\n",
    "\n",
    "def knn_impute(df):\n",
    "    imputer = KNNImputer(n_neighbors=5)\n",
    "    df[['Age']] = imputer.fit_transform(df[['Age', 'Pclass', 'SibSp', 'Parch', 'Fare']])[:, 0].reshape(-1, 1)\n",
    "    \n",
    "    return df"
   ]
  },
  {
   "cell_type": "code",
   "execution_count": null,
   "metadata": {},
   "outputs": [],
   "source": [
    "# impute_function = linear_regression_impute\n",
    "impute_function = random_forest_impute\n",
    "# impute_function = knn_impute"
   ]
  },
  {
   "cell_type": "code",
   "execution_count": null,
   "metadata": {},
   "outputs": [],
   "source": [
    "print(\"Before imputation:\")\n",
    "train_data[['Age']].describe() # for debugging"
   ]
  },
  {
   "cell_type": "code",
   "execution_count": null,
   "metadata": {},
   "outputs": [],
   "source": [
    "train_data = impute_function(train_data)\n",
    "print(\"After imputation:\")\n",
    "train_data[['Age']].describe() # for debugging"
   ]
  },
  {
   "cell_type": "markdown",
   "metadata": {},
   "source": [
    "## 2. One-hot Encoding"
   ]
  },
  {
   "cell_type": "code",
   "execution_count": null,
   "metadata": {},
   "outputs": [],
   "source": [
    "# we don't want to analyze cabin number, just whether they have a cabin or not\n",
    "def set_Cabin_type(df):\n",
    "    df.loc[df.Cabin.notnull(), 'Cabin'] = \"Yes\"\n",
    "    df.loc[df.Cabin.isnull(), 'Cabin'] = \"No\"\n",
    "    return df\n",
    "\n",
    "train_data = set_Cabin_type(train_data)\n",
    "\n",
    "dummies_Cabin = pd.get_dummies(train_data['Cabin'], prefix= 'Cabin')\n",
    "dummies_Embarked = pd.get_dummies(train_data['Embarked'], prefix= 'Embarked')\n",
    "dummies_Sex = pd.get_dummies(train_data['Sex'], prefix= 'Sex')\n",
    "dummies_Pclass = pd.get_dummies(train_data['Pclass'], prefix= 'Pclass')\n",
    "\n",
    "df = pd.concat([train_data, dummies_Cabin, dummies_Embarked, dummies_Sex, dummies_Pclass], axis=1)\n",
    "df.drop(['Pclass', 'Name', 'Sex', 'Ticket', 'Cabin', 'Embarked'], axis=1, inplace=True)\n",
    "df"
   ]
  },
  {
   "cell_type": "markdown",
   "metadata": {},
   "source": [
    "## 3. Standardization"
   ]
  },
  {
   "cell_type": "code",
   "execution_count": null,
   "metadata": {},
   "outputs": [],
   "source": [
    "import sklearn.preprocessing as preprocessing\n",
    "\n",
    "scaler = preprocessing.StandardScaler()\n",
    "\n",
    "# Reshape操作\n",
    "df['Age_scaled'] = scaler.fit_transform(df['Age'].values.reshape(-1, 1))\n",
    "df['Fare_scaled'] = scaler.fit_transform(df['Fare'].values.reshape(-1, 1))"
   ]
  },
  {
   "cell_type": "markdown",
   "metadata": {},
   "source": [
    "# Test Data pre-processing"
   ]
  },
  {
   "cell_type": "code",
   "execution_count": null,
   "metadata": {},
   "outputs": [],
   "source": [
    "test_data.describe() # for debugging"
   ]
  },
  {
   "cell_type": "code",
   "execution_count": null,
   "metadata": {},
   "outputs": [],
   "source": [
    "# calculate the average fare for each class\n",
    "fare_means = test_data.groupby('Pclass')['Fare'].mean()\n",
    "\n",
    "def fill_missing_fare(row):\n",
    "    if pd.isnull(row['Fare']):\n",
    "        return fare_means[row['Pclass']]\n",
    "    else:\n",
    "        return row['Fare']\n",
    "\n",
    "# fill missing fare\n",
    "test_data['Fare'] = test_data.apply(fill_missing_fare, axis=1)\n",
    "\n",
    "# fill missing age\n",
    "test_data = impute_function(test_data)\n",
    "\n",
    "# one-hot encoding\n",
    "test_data = set_Cabin_type(test_data)\n",
    "dummies_Cabin = pd.get_dummies(test_data['Cabin'], prefix='Cabin')\n",
    "dummies_Embarked = pd.get_dummies(test_data['Embarked'], prefix='Embarked')\n",
    "dummies_Sex = pd.get_dummies(test_data['Sex'], prefix='Sex')\n",
    "dummies_Pclass = pd.get_dummies(test_data['Pclass'], prefix='Pclass')\n",
    "\n",
    "df_test = pd.concat([test_data, dummies_Cabin, dummies_Embarked, dummies_Sex, dummies_Pclass], axis=1)\n",
    "\n",
    "df_test.drop(['Pclass', 'Name', 'Sex', 'Ticket', 'Cabin', 'Embarked'], axis=1, inplace=True)\n",
    "\n",
    "# standardize\n",
    "df_test['Age_scaled'] = scaler.fit_transform(df_test['Age'].values.reshape(-1, 1))\n",
    "df_test['Fare_scaled'] = scaler.fit_transform(df_test['Fare'].values.reshape(-1, 1))\n",
    "\n",
    "df_test"
   ]
  },
  {
   "cell_type": "markdown",
   "metadata": {},
   "source": [
    "# Training"
   ]
  },
  {
   "cell_type": "markdown",
   "metadata": {},
   "source": [
    "for a naive version, we use logistic regression"
   ]
  },
  {
   "cell_type": "code",
   "execution_count": null,
   "metadata": {},
   "outputs": [],
   "source": [
    "from sklearn import linear_model\n",
    "\n",
    "train_df = df.filter(regex='Survived|Age_.*|SibSp|Parch|Fare_.*|Cabin_.*|Embarked_.*|Sex_.*|Pclass_.*')\n",
    "train_np = train_df.values\n",
    "\n",
    "y = train_np[:, 0]\n",
    "\n",
    "X = train_np[:, 1:]\n",
    "\n",
    "clf = linear_model.LogisticRegression(C=1.0, penalty='l2', tol=1e-6)\n",
    "clf.fit(X, y.astype(\"int\"))\n",
    "    \n",
    "clf"
   ]
  },
  {
   "cell_type": "markdown",
   "metadata": {},
   "source": [
    "use trained model to predict result"
   ]
  },
  {
   "cell_type": "code",
   "execution_count": null,
   "metadata": {},
   "outputs": [],
   "source": [
    "test = df_test.filter(regex='Age_.*|SibSp|Parch|Fare_.*|Cabin_.*|Embarked_.*|Sex_.*|Pclass_.*')\n",
    "predictions = clf.predict(test)\n",
    "result = pd.DataFrame({'PassengerId':test_data['PassengerId'].values, 'Survived':predictions.astype(np.int32)})\n",
    "result.to_csv(\"logistic_regression_predictions.csv\", index=False)"
   ]
  }
 ],
 "metadata": {
  "kernelspec": {
   "display_name": "3.8",
   "language": "python",
   "name": "python3"
  },
  "language_info": {
   "codemirror_mode": {
    "name": "ipython",
    "version": 3
   },
   "file_extension": ".py",
   "mimetype": "text/x-python",
   "name": "python",
   "nbconvert_exporter": "python",
   "pygments_lexer": "ipython3",
   "version": "3.8.17"
  }
 },
 "nbformat": 4,
 "nbformat_minor": 2
}
